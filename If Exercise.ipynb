{
 "cells": [
  {
   "cell_type": "markdown",
   "id": "7b515c1c",
   "metadata": {},
   "source": [
    "1) grade code\n",
    "p=50\n",
    "O: p>75\n",
    "A : 60 < p>75\n",
    "B: 50<p<60\n",
    "C: 35<p<50\n",
    "fail:p<35"
   ]
  },
  {
   "cell_type": "code",
   "execution_count": 18,
   "id": "982799df",
   "metadata": {},
   "outputs": [
    {
     "name": "stdout",
     "output_type": "stream",
     "text": [
      "Grade O\n"
     ]
    }
   ],
   "source": [
    "p=75\n",
    "if p>=75:\n",
    "    print(\"Grade O\")\n",
    "elif p<=74 and p>=60:\n",
    "    print(\"Grade A\")\n",
    "elif p<=59 and p>=50:\n",
    "    print(\"Grade B\")\n",
    "elif p<=49 and p>=35:\n",
    "    print (\"Grade C\")\n",
    "else:\n",
    "    print(\"Grade Fail\")"
   ]
  },
  {
   "cell_type": "markdown",
   "id": "79913d7b",
   "metadata": {},
   "source": [
    "2) n divisible by 2 or 3\n",
    "n=7\n",
    "2 divisble, 3 not\n",
    "divisible by 2,and 3\n",
    "divisible by 3, not 2\n",
    "not divisible by 2, and 3"
   ]
  },
  {
   "cell_type": "code",
   "execution_count": 27,
   "id": "10afb98e",
   "metadata": {},
   "outputs": [
    {
     "name": "stdout",
     "output_type": "stream",
     "text": [
      "not divisible by 2 and 3\n"
     ]
    }
   ],
   "source": [
    "n=1\n",
    "if n%2==0 and n%3==1:\n",
    "    print (\"2 divisible, 3 not divisible\")\n",
    "\n",
    "elif n%2==0 and n%3==0:\n",
    "    print (\"divisible by 2 and 3\")\n",
    "\n",
    "elif n%2==1 and n%3==0:\n",
    "    print (\"divisible by 3, not 2\")\n",
    "    \n",
    "else:\n",
    "    print (\"not divisible by 2 and 3\")"
   ]
  },
  {
   "cell_type": "code",
   "execution_count": null,
   "id": "4e07981f",
   "metadata": {},
   "outputs": [],
   "source": []
  }
 ],
 "metadata": {
  "kernelspec": {
   "display_name": "Python 3 (ipykernel)",
   "language": "python",
   "name": "python3"
  },
  "language_info": {
   "codemirror_mode": {
    "name": "ipython",
    "version": 3
   },
   "file_extension": ".py",
   "mimetype": "text/x-python",
   "name": "python",
   "nbconvert_exporter": "python",
   "pygments_lexer": "ipython3",
   "version": "3.10.9"
  }
 },
 "nbformat": 4,
 "nbformat_minor": 5
}
